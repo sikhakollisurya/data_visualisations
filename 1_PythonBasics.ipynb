{
 "cells": [
  {
   "cell_type": "code",
   "execution_count": 1,
   "id": "ce7240c7",
   "metadata": {},
   "outputs": [
    {
     "ename": "SyntaxError",
     "evalue": "Missing parentheses in call to 'print'. Did you mean print(...)? (4263990349.py, line 1)",
     "output_type": "error",
     "traceback": [
      "\u001b[1;36m  Cell \u001b[1;32mIn[1], line 1\u001b[1;36m\u001b[0m\n\u001b[1;33m    print\"hello\"\u001b[0m\n\u001b[1;37m    ^\u001b[0m\n\u001b[1;31mSyntaxError\u001b[0m\u001b[1;31m:\u001b[0m Missing parentheses in call to 'print'. Did you mean print(...)?\n"
     ]
    }
   ],
   "source": [
    "print\"hello\"\n"
   ]
  },
  {
   "cell_type": "code",
   "execution_count": 2,
   "id": "a949b510",
   "metadata": {},
   "outputs": [
    {
     "data": {
      "text/plain": [
       "'D:\\\\python smartbridge'"
      ]
     },
     "execution_count": 2,
     "metadata": {},
     "output_type": "execute_result"
    }
   ],
   "source": [
    "pwd\n"
   ]
  },
  {
   "cell_type": "code",
   "execution_count": 3,
   "id": "1ec63d44",
   "metadata": {},
   "outputs": [
    {
     "ename": "NameError",
     "evalue": "name 'hello' is not defined",
     "output_type": "error",
     "traceback": [
      "\u001b[1;31m---------------------------------------------------------------------------\u001b[0m",
      "\u001b[1;31mNameError\u001b[0m                                 Traceback (most recent call last)",
      "Cell \u001b[1;32mIn[3], line 1\u001b[0m\n\u001b[1;32m----> 1\u001b[0m \u001b[38;5;28mprint\u001b[39m(hello)\n",
      "\u001b[1;31mNameError\u001b[0m: name 'hello' is not defined"
     ]
    }
   ],
   "source": [
    "print(hello)"
   ]
  },
  {
   "cell_type": "code",
   "execution_count": null,
   "id": "f434a335",
   "metadata": {},
   "outputs": [],
   "source": [
    "print(\"hello\")"
   ]
  },
  {
   "cell_type": "raw",
   "id": "4e0f20b0",
   "metadata": {},
   "source": [
    "HI GUYS\n",
    "just testing comments"
   ]
  },
  {
   "cell_type": "code",
   "execution_count": null,
   "id": "bb392d32",
   "metadata": {},
   "outputs": [],
   "source": [
    "a=2\n",
    "a"
   ]
  },
  {
   "cell_type": "code",
   "execution_count": null,
   "id": "476de37e",
   "metadata": {},
   "outputs": [],
   "source": [
    "b=\"surya\""
   ]
  },
  {
   "cell_type": "code",
   "execution_count": null,
   "id": "83c5f1fe",
   "metadata": {},
   "outputs": [],
   "source": [
    "b\n"
   ]
  },
  {
   "cell_type": "code",
   "execution_count": null,
   "id": "3afd2849",
   "metadata": {},
   "outputs": [],
   "source": [
    "type(b)"
   ]
  },
  {
   "cell_type": "code",
   "execution_count": null,
   "id": "c80345dd",
   "metadata": {},
   "outputs": [],
   "source": [
    "type(a)"
   ]
  },
  {
   "cell_type": "code",
   "execution_count": null,
   "id": "a62fd844",
   "metadata": {},
   "outputs": [],
   "source": [
    "print(\"a\",a,\"a\",b)"
   ]
  },
  {
   "cell_type": "code",
   "execution_count": null,
   "id": "c5e02a93",
   "metadata": {},
   "outputs": [],
   "source": [
    "surya$=\"surya\""
   ]
  },
  {
   "cell_type": "code",
   "execution_count": null,
   "id": "3910d67b",
   "metadata": {},
   "outputs": [],
   "source": [
    "import keyword\n"
   ]
  },
  {
   "cell_type": "code",
   "execution_count": null,
   "id": "2f02a65b",
   "metadata": {},
   "outputs": [],
   "source": [
    "print(keyword.kwlist)"
   ]
  },
  {
   "cell_type": "markdown",
   "id": "9fd8179c",
   "metadata": {},
   "source": [
    "# indexing"
   ]
  },
  {
   "cell_type": "code",
   "execution_count": null,
   "id": "a91222e7",
   "metadata": {},
   "outputs": [],
   "source": [
    "stirng=\"hi how are you\""
   ]
  },
  {
   "cell_type": "code",
   "execution_count": null,
   "id": "5aeee8b4",
   "metadata": {},
   "outputs": [],
   "source": [
    "for i in range(len(stirng)):\n",
    "    print(i,\"\\t\",stirng[i])"
   ]
  },
  {
   "cell_type": "code",
   "execution_count": null,
   "id": "5a1cdd8c",
   "metadata": {},
   "outputs": [],
   "source": [
    "print(stirng[-2])"
   ]
  },
  {
   "cell_type": "code",
   "execution_count": null,
   "id": "848705d2",
   "metadata": {},
   "outputs": [],
   "source": [
    "len(stirng)"
   ]
  },
  {
   "cell_type": "code",
   "execution_count": 4,
   "id": "f317ee3c",
   "metadata": {},
   "outputs": [
    {
     "ename": "NameError",
     "evalue": "name 'stirng' is not defined",
     "output_type": "error",
     "traceback": [
      "\u001b[1;31m---------------------------------------------------------------------------\u001b[0m",
      "\u001b[1;31mNameError\u001b[0m                                 Traceback (most recent call last)",
      "Cell \u001b[1;32mIn[4], line 1\u001b[0m\n\u001b[1;32m----> 1\u001b[0m stirng[\u001b[38;5;241m12\u001b[39m]\n",
      "\u001b[1;31mNameError\u001b[0m: name 'stirng' is not defined"
     ]
    }
   ],
   "source": [
    "stirng[12]"
   ]
  },
  {
   "cell_type": "code",
   "execution_count": 5,
   "id": "6ec28aad",
   "metadata": {},
   "outputs": [
    {
     "ename": "NameError",
     "evalue": "name 'stirng' is not defined",
     "output_type": "error",
     "traceback": [
      "\u001b[1;31m---------------------------------------------------------------------------\u001b[0m",
      "\u001b[1;31mNameError\u001b[0m                                 Traceback (most recent call last)",
      "Cell \u001b[1;32mIn[5], line 1\u001b[0m\n\u001b[1;32m----> 1\u001b[0m \u001b[38;5;28mtype\u001b[39m(stirng[\u001b[38;5;241m-\u001b[39m\u001b[38;5;241m2\u001b[39m]),\u001b[38;5;28mtype\u001b[39m(stirng[\u001b[38;5;241m12\u001b[39m])\n",
      "\u001b[1;31mNameError\u001b[0m: name 'stirng' is not defined"
     ]
    }
   ],
   "source": [
    "type(stirng[-2]),type(stirng[12])"
   ]
  },
  {
   "cell_type": "markdown",
   "id": "a165e0ea",
   "metadata": {},
   "source": [
    "# slicing "
   ]
  },
  {
   "cell_type": "code",
   "execution_count": 6,
   "id": "f2c11401",
   "metadata": {},
   "outputs": [
    {
     "ename": "NameError",
     "evalue": "name 'stirng' is not defined",
     "output_type": "error",
     "traceback": [
      "\u001b[1;31m---------------------------------------------------------------------------\u001b[0m",
      "\u001b[1;31mNameError\u001b[0m                                 Traceback (most recent call last)",
      "Cell \u001b[1;32mIn[6], line 1\u001b[0m\n\u001b[1;32m----> 1\u001b[0m stirng[\u001b[38;5;241m3\u001b[39m:]\n",
      "\u001b[1;31mNameError\u001b[0m: name 'stirng' is not defined"
     ]
    }
   ],
   "source": [
    "stirng[3:]"
   ]
  },
  {
   "cell_type": "code",
   "execution_count": 7,
   "id": "a5a68694",
   "metadata": {},
   "outputs": [
    {
     "ename": "NameError",
     "evalue": "name 'stirng' is not defined",
     "output_type": "error",
     "traceback": [
      "\u001b[1;31m---------------------------------------------------------------------------\u001b[0m",
      "\u001b[1;31mNameError\u001b[0m                                 Traceback (most recent call last)",
      "Cell \u001b[1;32mIn[7], line 1\u001b[0m\n\u001b[1;32m----> 1\u001b[0m stirng[\u001b[38;5;241m3\u001b[39m::\u001b[38;5;241m2\u001b[39m]\n",
      "\u001b[1;31mNameError\u001b[0m: name 'stirng' is not defined"
     ]
    }
   ],
   "source": [
    "stirng[3::2]"
   ]
  },
  {
   "cell_type": "code",
   "execution_count": 8,
   "id": "61007b99",
   "metadata": {},
   "outputs": [
    {
     "ename": "NameError",
     "evalue": "name 'stirng' is not defined",
     "output_type": "error",
     "traceback": [
      "\u001b[1;31m---------------------------------------------------------------------------\u001b[0m",
      "\u001b[1;31mNameError\u001b[0m                                 Traceback (most recent call last)",
      "Cell \u001b[1;32mIn[8], line 1\u001b[0m\n\u001b[1;32m----> 1\u001b[0m stirng[\u001b[38;5;241m3\u001b[39m:\u001b[38;5;241m8\u001b[39m:\u001b[38;5;241m-\u001b[39m\u001b[38;5;241m2\u001b[39m]\n",
      "\u001b[1;31mNameError\u001b[0m: name 'stirng' is not defined"
     ]
    }
   ],
   "source": [
    "stirng[3:8:-2]"
   ]
  },
  {
   "cell_type": "code",
   "execution_count": 9,
   "id": "796299d7",
   "metadata": {},
   "outputs": [
    {
     "ename": "NameError",
     "evalue": "name 'stirng' is not defined",
     "output_type": "error",
     "traceback": [
      "\u001b[1;31m---------------------------------------------------------------------------\u001b[0m",
      "\u001b[1;31mNameError\u001b[0m                                 Traceback (most recent call last)",
      "Cell \u001b[1;32mIn[9], line 1\u001b[0m\n\u001b[1;32m----> 1\u001b[0m stirng[\u001b[38;5;241m8\u001b[39m:\u001b[38;5;241m3\u001b[39m:\u001b[38;5;241m-\u001b[39m\u001b[38;5;241m2\u001b[39m]\n",
      "\u001b[1;31mNameError\u001b[0m: name 'stirng' is not defined"
     ]
    }
   ],
   "source": [
    "stirng[8:3:-2]"
   ]
  },
  {
   "cell_type": "code",
   "execution_count": 10,
   "id": "dd87c74d",
   "metadata": {},
   "outputs": [
    {
     "ename": "NameError",
     "evalue": "name 'stirng' is not defined",
     "output_type": "error",
     "traceback": [
      "\u001b[1;31m---------------------------------------------------------------------------\u001b[0m",
      "\u001b[1;31mNameError\u001b[0m                                 Traceback (most recent call last)",
      "Cell \u001b[1;32mIn[10], line 1\u001b[0m\n\u001b[1;32m----> 1\u001b[0m stirng[\u001b[38;5;241m8\u001b[39m:\u001b[38;5;241m3\u001b[39m:\u001b[38;5;241m2\u001b[39m]\n",
      "\u001b[1;31mNameError\u001b[0m: name 'stirng' is not defined"
     ]
    }
   ],
   "source": [
    "stirng[8:3:2]"
   ]
  },
  {
   "cell_type": "code",
   "execution_count": 11,
   "id": "e5b16cb0",
   "metadata": {},
   "outputs": [
    {
     "ename": "NameError",
     "evalue": "name 'a' is not defined",
     "output_type": "error",
     "traceback": [
      "\u001b[1;31m---------------------------------------------------------------------------\u001b[0m",
      "\u001b[1;31mNameError\u001b[0m                                 Traceback (most recent call last)",
      "Cell \u001b[1;32mIn[11], line 1\u001b[0m\n\u001b[1;32m----> 1\u001b[0m \u001b[38;5;28mdir\u001b[39m(a)\n",
      "\u001b[1;31mNameError\u001b[0m: name 'a' is not defined"
     ]
    }
   ],
   "source": [
    "dir(a)"
   ]
  },
  {
   "cell_type": "markdown",
   "id": "33d50e2a",
   "metadata": {},
   "source": [
    "# list"
   ]
  },
  {
   "cell_type": "code",
   "execution_count": 12,
   "id": "ef322753",
   "metadata": {},
   "outputs": [],
   "source": [
    "p=[1,2,3,4.5,'surya',\"hello\"]"
   ]
  },
  {
   "cell_type": "code",
   "execution_count": 13,
   "id": "2aad45c9",
   "metadata": {},
   "outputs": [
    {
     "data": {
      "text/plain": [
       "[1, 2, 3, 4.5, 'surya', 'hello']"
      ]
     },
     "execution_count": 13,
     "metadata": {},
     "output_type": "execute_result"
    }
   ],
   "source": [
    "p"
   ]
  },
  {
   "cell_type": "code",
   "execution_count": 14,
   "id": "c0e08c2c",
   "metadata": {},
   "outputs": [
    {
     "data": {
      "text/plain": [
       "list"
      ]
     },
     "execution_count": 14,
     "metadata": {},
     "output_type": "execute_result"
    }
   ],
   "source": [
    "type(p)"
   ]
  },
  {
   "cell_type": "code",
   "execution_count": 15,
   "id": "5430bd4f",
   "metadata": {},
   "outputs": [
    {
     "data": {
      "text/plain": [
       "[3, 4.5]"
      ]
     },
     "execution_count": 15,
     "metadata": {},
     "output_type": "execute_result"
    }
   ],
   "source": [
    "p[2:4]"
   ]
  },
  {
   "cell_type": "code",
   "execution_count": 16,
   "id": "6eb7ffbb",
   "metadata": {},
   "outputs": [
    {
     "data": {
      "text/plain": [
       "6"
      ]
     },
     "execution_count": 16,
     "metadata": {},
     "output_type": "execute_result"
    }
   ],
   "source": [
    "len(p)"
   ]
  },
  {
   "cell_type": "code",
   "execution_count": 17,
   "id": "a932825f",
   "metadata": {},
   "outputs": [],
   "source": [
    "p.append(8)"
   ]
  },
  {
   "cell_type": "code",
   "execution_count": 18,
   "id": "dd38d1fe",
   "metadata": {},
   "outputs": [
    {
     "data": {
      "text/plain": [
       "[1, 2, 3, 4.5, 'surya', 'hello', 8]"
      ]
     },
     "execution_count": 18,
     "metadata": {},
     "output_type": "execute_result"
    }
   ],
   "source": [
    "p"
   ]
  },
  {
   "cell_type": "code",
   "execution_count": 19,
   "id": "ec43dd8a",
   "metadata": {},
   "outputs": [],
   "source": [
    "p.insert(4,\"inertnz\")"
   ]
  },
  {
   "cell_type": "code",
   "execution_count": 20,
   "id": "7e1561f8",
   "metadata": {},
   "outputs": [
    {
     "data": {
      "text/plain": [
       "[1, 2, 3, 4.5, 'inertnz', 'surya', 'hello', 8]"
      ]
     },
     "execution_count": 20,
     "metadata": {},
     "output_type": "execute_result"
    }
   ],
   "source": [
    "p"
   ]
  },
  {
   "cell_type": "code",
   "execution_count": 21,
   "id": "b85b3e3d",
   "metadata": {},
   "outputs": [],
   "source": [
    "p.append(\"surya\")"
   ]
  },
  {
   "cell_type": "code",
   "execution_count": 22,
   "id": "dc1b2061",
   "metadata": {},
   "outputs": [
    {
     "data": {
      "text/plain": [
       "[1, 2, 3, 4.5, 'inertnz', 'surya', 'hello', 8, 'surya']"
      ]
     },
     "execution_count": 22,
     "metadata": {},
     "output_type": "execute_result"
    }
   ],
   "source": [
    "p"
   ]
  },
  {
   "cell_type": "code",
   "execution_count": 23,
   "id": "227bfb52",
   "metadata": {},
   "outputs": [
    {
     "data": {
      "text/plain": [
       "1"
      ]
     },
     "execution_count": 23,
     "metadata": {},
     "output_type": "execute_result"
    }
   ],
   "source": [
    "p.count(3)"
   ]
  },
  {
   "cell_type": "code",
   "execution_count": 24,
   "id": "e6d011fc",
   "metadata": {},
   "outputs": [],
   "source": [
    "p.remove(\"surya\")"
   ]
  },
  {
   "cell_type": "code",
   "execution_count": 25,
   "id": "e35a5cb6",
   "metadata": {},
   "outputs": [
    {
     "data": {
      "text/plain": [
       "[1, 2, 3, 4.5, 'inertnz', 'hello', 8, 'surya']"
      ]
     },
     "execution_count": 25,
     "metadata": {},
     "output_type": "execute_result"
    }
   ],
   "source": [
    "p"
   ]
  },
  {
   "cell_type": "code",
   "execution_count": 26,
   "id": "708eaa3e",
   "metadata": {},
   "outputs": [
    {
     "data": {
      "text/plain": [
       "4.5"
      ]
     },
     "execution_count": 26,
     "metadata": {},
     "output_type": "execute_result"
    }
   ],
   "source": [
    "p.pop(3)"
   ]
  },
  {
   "cell_type": "code",
   "execution_count": 27,
   "id": "3674247c",
   "metadata": {},
   "outputs": [
    {
     "data": {
      "text/plain": [
       "[1, 2, 3, 'inertnz', 'hello', 8, 'surya']"
      ]
     },
     "execution_count": 27,
     "metadata": {},
     "output_type": "execute_result"
    }
   ],
   "source": [
    "p"
   ]
  },
  {
   "cell_type": "code",
   "execution_count": 28,
   "id": "e431f600",
   "metadata": {},
   "outputs": [],
   "source": [
    "p.insert(3,4.5)"
   ]
  },
  {
   "cell_type": "code",
   "execution_count": 29,
   "id": "a832ffeb",
   "metadata": {},
   "outputs": [
    {
     "data": {
      "text/plain": [
       "[1, 2, 3, 4.5, 'inertnz', 'hello', 8, 'surya']"
      ]
     },
     "execution_count": 29,
     "metadata": {},
     "output_type": "execute_result"
    }
   ],
   "source": [
    "p"
   ]
  },
  {
   "cell_type": "code",
   "execution_count": 30,
   "id": "f93ed618",
   "metadata": {},
   "outputs": [
    {
     "data": {
      "text/plain": [
       "['__add__',\n",
       " '__class__',\n",
       " '__class_getitem__',\n",
       " '__contains__',\n",
       " '__delattr__',\n",
       " '__delitem__',\n",
       " '__dir__',\n",
       " '__doc__',\n",
       " '__eq__',\n",
       " '__format__',\n",
       " '__ge__',\n",
       " '__getattribute__',\n",
       " '__getitem__',\n",
       " '__getstate__',\n",
       " '__gt__',\n",
       " '__hash__',\n",
       " '__iadd__',\n",
       " '__imul__',\n",
       " '__init__',\n",
       " '__init_subclass__',\n",
       " '__iter__',\n",
       " '__le__',\n",
       " '__len__',\n",
       " '__lt__',\n",
       " '__mul__',\n",
       " '__ne__',\n",
       " '__new__',\n",
       " '__reduce__',\n",
       " '__reduce_ex__',\n",
       " '__repr__',\n",
       " '__reversed__',\n",
       " '__rmul__',\n",
       " '__setattr__',\n",
       " '__setitem__',\n",
       " '__sizeof__',\n",
       " '__str__',\n",
       " '__subclasshook__',\n",
       " 'append',\n",
       " 'clear',\n",
       " 'copy',\n",
       " 'count',\n",
       " 'extend',\n",
       " 'index',\n",
       " 'insert',\n",
       " 'pop',\n",
       " 'remove',\n",
       " 'reverse',\n",
       " 'sort']"
      ]
     },
     "execution_count": 30,
     "metadata": {},
     "output_type": "execute_result"
    }
   ],
   "source": [
    "dir(p)"
   ]
  },
  {
   "cell_type": "code",
   "execution_count": 31,
   "id": "517ff298",
   "metadata": {},
   "outputs": [
    {
     "data": {
      "text/plain": [
       "3"
      ]
     },
     "execution_count": 31,
     "metadata": {},
     "output_type": "execute_result"
    }
   ],
   "source": [
    "p.index(4.5)"
   ]
  },
  {
   "cell_type": "markdown",
   "id": "88573fb7",
   "metadata": {},
   "source": [
    "# #list is mutable,orderd,duplicates allowed,heterogenous"
   ]
  },
  {
   "cell_type": "markdown",
   "id": "a56cf59b",
   "metadata": {},
   "source": [
    "# Tuple"
   ]
  },
  {
   "cell_type": "code",
   "execution_count": 32,
   "id": "3b76fe92",
   "metadata": {},
   "outputs": [],
   "source": [
    "t=(5,8.8,9,\"surya\")"
   ]
  },
  {
   "cell_type": "code",
   "execution_count": 33,
   "id": "70f4c7c3",
   "metadata": {},
   "outputs": [
    {
     "data": {
      "text/plain": [
       "(tuple, (5, 8.8, 9, 'surya'))"
      ]
     },
     "execution_count": 33,
     "metadata": {},
     "output_type": "execute_result"
    }
   ],
   "source": [
    "type(t),t"
   ]
  },
  {
   "cell_type": "code",
   "execution_count": 34,
   "id": "94daddf8",
   "metadata": {},
   "outputs": [
    {
     "data": {
      "text/plain": [
       "['__add__',\n",
       " '__class__',\n",
       " '__class_getitem__',\n",
       " '__contains__',\n",
       " '__delattr__',\n",
       " '__dir__',\n",
       " '__doc__',\n",
       " '__eq__',\n",
       " '__format__',\n",
       " '__ge__',\n",
       " '__getattribute__',\n",
       " '__getitem__',\n",
       " '__getnewargs__',\n",
       " '__getstate__',\n",
       " '__gt__',\n",
       " '__hash__',\n",
       " '__init__',\n",
       " '__init_subclass__',\n",
       " '__iter__',\n",
       " '__le__',\n",
       " '__len__',\n",
       " '__lt__',\n",
       " '__mul__',\n",
       " '__ne__',\n",
       " '__new__',\n",
       " '__reduce__',\n",
       " '__reduce_ex__',\n",
       " '__repr__',\n",
       " '__rmul__',\n",
       " '__setattr__',\n",
       " '__sizeof__',\n",
       " '__str__',\n",
       " '__subclasshook__',\n",
       " 'count',\n",
       " 'index']"
      ]
     },
     "execution_count": 34,
     "metadata": {},
     "output_type": "execute_result"
    }
   ],
   "source": [
    "dir(t)"
   ]
  },
  {
   "cell_type": "code",
   "execution_count": 35,
   "id": "bf6d3987",
   "metadata": {},
   "outputs": [
    {
     "data": {
      "text/plain": [
       "(8.8, 9, 'surya')"
      ]
     },
     "execution_count": 35,
     "metadata": {},
     "output_type": "execute_result"
    }
   ],
   "source": [
    "t[1:4]"
   ]
  },
  {
   "cell_type": "code",
   "execution_count": 36,
   "id": "28e85d00",
   "metadata": {},
   "outputs": [],
   "source": [
    "a=list(t)"
   ]
  },
  {
   "cell_type": "code",
   "execution_count": 37,
   "id": "f21d9a8c",
   "metadata": {},
   "outputs": [
    {
     "data": {
      "text/plain": [
       "[5, 8.8, 9, 'surya']"
      ]
     },
     "execution_count": 37,
     "metadata": {},
     "output_type": "execute_result"
    }
   ],
   "source": [
    "a"
   ]
  },
  {
   "cell_type": "code",
   "execution_count": 38,
   "id": "e588a171",
   "metadata": {},
   "outputs": [],
   "source": [
    "a.append(\"surya\")"
   ]
  },
  {
   "cell_type": "code",
   "execution_count": 39,
   "id": "3d711848",
   "metadata": {},
   "outputs": [
    {
     "data": {
      "text/plain": [
       "2"
      ]
     },
     "execution_count": 39,
     "metadata": {},
     "output_type": "execute_result"
    }
   ],
   "source": [
    "a.count(\"surya\")"
   ]
  },
  {
   "cell_type": "code",
   "execution_count": 40,
   "id": "2c35a7e8",
   "metadata": {},
   "outputs": [
    {
     "data": {
      "text/plain": [
       "[5, 8.8, 9, 'surya', 'surya']"
      ]
     },
     "execution_count": 40,
     "metadata": {},
     "output_type": "execute_result"
    }
   ],
   "source": [
    "a"
   ]
  },
  {
   "cell_type": "code",
   "execution_count": 41,
   "id": "c6d7e17d",
   "metadata": {},
   "outputs": [
    {
     "data": {
      "text/plain": [
       "(5, 8.8, 9, 'surya')"
      ]
     },
     "execution_count": 41,
     "metadata": {},
     "output_type": "execute_result"
    }
   ],
   "source": [
    "t"
   ]
  },
  {
   "cell_type": "code",
   "execution_count": 42,
   "id": "8174e1d7",
   "metadata": {},
   "outputs": [],
   "source": [
    "t=tuple(a)"
   ]
  },
  {
   "cell_type": "code",
   "execution_count": 43,
   "id": "8cfad97a",
   "metadata": {},
   "outputs": [],
   "source": [
    "y=(1,3,4)"
   ]
  },
  {
   "cell_type": "code",
   "execution_count": 44,
   "id": "6df6ce21",
   "metadata": {},
   "outputs": [],
   "source": [
    "c=y+t"
   ]
  },
  {
   "cell_type": "code",
   "execution_count": 45,
   "id": "b7771d95",
   "metadata": {},
   "outputs": [
    {
     "data": {
      "text/plain": [
       "(1, 3, 4, 5, 8.8, 9, 'surya', 'surya')"
      ]
     },
     "execution_count": 45,
     "metadata": {},
     "output_type": "execute_result"
    }
   ],
   "source": [
    "c"
   ]
  },
  {
   "cell_type": "markdown",
   "id": "143731b2",
   "metadata": {},
   "source": [
    "# tuples are ordered,slicing,indexing can be done, duplicates allowed while intializing,heterogenous,immutable"
   ]
  },
  {
   "cell_type": "markdown",
   "id": "ace70e6f",
   "metadata": {},
   "source": [
    "# dictionary"
   ]
  },
  {
   "cell_type": "code",
   "execution_count": 46,
   "id": "75a89a55",
   "metadata": {},
   "outputs": [],
   "source": [
    "cricket={\"captain\":\"virat\",\"keeper\":\"dhoni\",\"bowler\":\"sachin\",1:3}"
   ]
  },
  {
   "cell_type": "code",
   "execution_count": 47,
   "id": "96dfef8b",
   "metadata": {},
   "outputs": [
    {
     "data": {
      "text/plain": [
       "({'captain': 'virat', 'keeper': 'dhoni', 'bowler': 'sachin', 1: 3}, dict)"
      ]
     },
     "execution_count": 47,
     "metadata": {},
     "output_type": "execute_result"
    }
   ],
   "source": [
    "cricket,type(cricket)"
   ]
  },
  {
   "cell_type": "code",
   "execution_count": 48,
   "id": "ab9b4243",
   "metadata": {},
   "outputs": [
    {
     "data": {
      "text/plain": [
       "(3, 'sachin')"
      ]
     },
     "execution_count": 48,
     "metadata": {},
     "output_type": "execute_result"
    }
   ],
   "source": [
    "cricket[1],cricket[\"bowler\"]"
   ]
  },
  {
   "cell_type": "code",
   "execution_count": 49,
   "id": "e981eca8",
   "metadata": {},
   "outputs": [],
   "source": [
    "z={\"alpha\":[\"a\",\"b\",\"c\"],\"numbers\":[1,2,3]}"
   ]
  },
  {
   "cell_type": "code",
   "execution_count": 50,
   "id": "92e0a7a9",
   "metadata": {},
   "outputs": [
    {
     "data": {
      "text/plain": [
       "({'alpha': ['a', 'b', 'c'], 'numbers': [1, 2, 3]}, dict)"
      ]
     },
     "execution_count": 50,
     "metadata": {},
     "output_type": "execute_result"
    }
   ],
   "source": [
    "z,type(z)"
   ]
  },
  {
   "cell_type": "code",
   "execution_count": 51,
   "id": "9f81d711",
   "metadata": {},
   "outputs": [
    {
     "data": {
      "text/plain": [
       "['__class__',\n",
       " '__class_getitem__',\n",
       " '__contains__',\n",
       " '__delattr__',\n",
       " '__delitem__',\n",
       " '__dir__',\n",
       " '__doc__',\n",
       " '__eq__',\n",
       " '__format__',\n",
       " '__ge__',\n",
       " '__getattribute__',\n",
       " '__getitem__',\n",
       " '__getstate__',\n",
       " '__gt__',\n",
       " '__hash__',\n",
       " '__init__',\n",
       " '__init_subclass__',\n",
       " '__ior__',\n",
       " '__iter__',\n",
       " '__le__',\n",
       " '__len__',\n",
       " '__lt__',\n",
       " '__ne__',\n",
       " '__new__',\n",
       " '__or__',\n",
       " '__reduce__',\n",
       " '__reduce_ex__',\n",
       " '__repr__',\n",
       " '__reversed__',\n",
       " '__ror__',\n",
       " '__setattr__',\n",
       " '__setitem__',\n",
       " '__sizeof__',\n",
       " '__str__',\n",
       " '__subclasshook__',\n",
       " 'clear',\n",
       " 'copy',\n",
       " 'fromkeys',\n",
       " 'get',\n",
       " 'items',\n",
       " 'keys',\n",
       " 'pop',\n",
       " 'popitem',\n",
       " 'setdefault',\n",
       " 'update',\n",
       " 'values']"
      ]
     },
     "execution_count": 51,
     "metadata": {},
     "output_type": "execute_result"
    }
   ],
   "source": [
    "dir(z)"
   ]
  },
  {
   "cell_type": "code",
   "execution_count": 52,
   "id": "d8b2e917",
   "metadata": {},
   "outputs": [],
   "source": [
    "r={1:2}"
   ]
  },
  {
   "cell_type": "code",
   "execution_count": 53,
   "id": "716ae03f",
   "metadata": {},
   "outputs": [],
   "source": [
    "z.update(r)"
   ]
  },
  {
   "cell_type": "code",
   "execution_count": 54,
   "id": "95c9b065",
   "metadata": {},
   "outputs": [
    {
     "data": {
      "text/plain": [
       "{'alpha': ['a', 'b', 'c'], 'numbers': [1, 2, 3], 1: 2}"
      ]
     },
     "execution_count": 54,
     "metadata": {},
     "output_type": "execute_result"
    }
   ],
   "source": [
    "z"
   ]
  },
  {
   "cell_type": "code",
   "execution_count": 55,
   "id": "60c6656d",
   "metadata": {},
   "outputs": [],
   "source": [
    "#update means adding into the dict,"
   ]
  },
  {
   "cell_type": "code",
   "execution_count": 56,
   "id": "5ed5ec1a",
   "metadata": {},
   "outputs": [],
   "source": [
    "#hence dict is mutable"
   ]
  },
  {
   "cell_type": "markdown",
   "id": "7ace2cdf",
   "metadata": {},
   "source": [
    "# dict is mutable,indexable,heterogenous"
   ]
  },
  {
   "cell_type": "code",
   "execution_count": 57,
   "id": "b1de4f76",
   "metadata": {},
   "outputs": [
    {
     "name": "stdout",
     "output_type": "stream",
     "text": [
      "helo\n"
     ]
    }
   ],
   "source": [
    "print(\"helo\")"
   ]
  },
  {
   "cell_type": "code",
   "execution_count": 58,
   "id": "3c4e1708",
   "metadata": {},
   "outputs": [
    {
     "data": {
      "text/plain": [
       "{'alpha': ['a', 'b', 'c'], 'numbers': [1, 2, 3], 1: 2}"
      ]
     },
     "execution_count": 58,
     "metadata": {},
     "output_type": "execute_result"
    }
   ],
   "source": [
    "z"
   ]
  },
  {
   "cell_type": "code",
   "execution_count": 59,
   "id": "11fa2aa4",
   "metadata": {},
   "outputs": [],
   "source": [
    "list=[1,22,3.5,[3,4,[{\"name\":[1,2,{\"name1\":\"surya\"},{\"age\":5}]}]]]"
   ]
  },
  {
   "cell_type": "code",
   "execution_count": 60,
   "id": "2f149d9e",
   "metadata": {},
   "outputs": [
    {
     "data": {
      "text/plain": [
       "[1, 22, 3.5, [3, 4, [{'name': [1, 2, {'name1': 'surya'}, {'age': 5}]}]]]"
      ]
     },
     "execution_count": 60,
     "metadata": {},
     "output_type": "execute_result"
    }
   ],
   "source": [
    "list"
   ]
  },
  {
   "cell_type": "code",
   "execution_count": 61,
   "id": "de029648",
   "metadata": {},
   "outputs": [
    {
     "data": {
      "text/plain": [
       "[{'name': [1, 2, {'name1': 'surya'}, {'age': 5}]}]"
      ]
     },
     "execution_count": 61,
     "metadata": {},
     "output_type": "execute_result"
    }
   ],
   "source": [
    "list[3][2]"
   ]
  },
  {
   "cell_type": "code",
   "execution_count": 62,
   "id": "7527495b",
   "metadata": {},
   "outputs": [
    {
     "data": {
      "text/plain": [
       "{'name': [1, 2, {'name1': 'surya'}, {'age': 5}]}"
      ]
     },
     "execution_count": 62,
     "metadata": {},
     "output_type": "execute_result"
    }
   ],
   "source": [
    "list[3][2][0]"
   ]
  },
  {
   "cell_type": "code",
   "execution_count": 63,
   "id": "d58c0811",
   "metadata": {},
   "outputs": [
    {
     "data": {
      "text/plain": [
       "'surya'"
      ]
     },
     "execution_count": 63,
     "metadata": {},
     "output_type": "execute_result"
    }
   ],
   "source": [
    "list[3][2][0][\"name\"][2][\"name1\"]"
   ]
  },
  {
   "cell_type": "code",
   "execution_count": 64,
   "id": "9187d874",
   "metadata": {},
   "outputs": [
    {
     "ename": "NameError",
     "evalue": "name 'd' is not defined",
     "output_type": "error",
     "traceback": [
      "\u001b[1;31m---------------------------------------------------------------------------\u001b[0m",
      "\u001b[1;31mNameError\u001b[0m                                 Traceback (most recent call last)",
      "Cell \u001b[1;32mIn[64], line 1\u001b[0m\n\u001b[1;32m----> 1\u001b[0m d\n",
      "\u001b[1;31mNameError\u001b[0m: name 'd' is not defined"
     ]
    }
   ],
   "source": [
    "d"
   ]
  },
  {
   "cell_type": "code",
   "execution_count": 65,
   "id": "167682ca",
   "metadata": {},
   "outputs": [
    {
     "data": {
      "text/plain": [
       "{'alpha': ['a', 'b', 'c'], 'numbers': [1, 2, 3], 1: 2}"
      ]
     },
     "execution_count": 65,
     "metadata": {},
     "output_type": "execute_result"
    }
   ],
   "source": [
    "z"
   ]
  },
  {
   "cell_type": "code",
   "execution_count": 66,
   "id": "63119b90",
   "metadata": {},
   "outputs": [
    {
     "data": {
      "text/plain": [
       "dict_keys(['alpha', 'numbers', 1])"
      ]
     },
     "execution_count": 66,
     "metadata": {},
     "output_type": "execute_result"
    }
   ],
   "source": [
    "z.keys()"
   ]
  },
  {
   "cell_type": "code",
   "execution_count": 67,
   "id": "6460999e",
   "metadata": {},
   "outputs": [
    {
     "data": {
      "text/plain": [
       "dict_values([['a', 'b', 'c'], [1, 2, 3], 2])"
      ]
     },
     "execution_count": 67,
     "metadata": {},
     "output_type": "execute_result"
    }
   ],
   "source": [
    "z.values()"
   ]
  },
  {
   "cell_type": "code",
   "execution_count": 68,
   "id": "9e27741f",
   "metadata": {},
   "outputs": [
    {
     "ename": "AttributeError",
     "evalue": "'dict' object has no attribute 'value'",
     "output_type": "error",
     "traceback": [
      "\u001b[1;31m---------------------------------------------------------------------------\u001b[0m",
      "\u001b[1;31mAttributeError\u001b[0m                            Traceback (most recent call last)",
      "Cell \u001b[1;32mIn[68], line 1\u001b[0m\n\u001b[1;32m----> 1\u001b[0m \u001b[38;5;28mlist\u001b[39m[\u001b[38;5;241m3\u001b[39m][\u001b[38;5;241m2\u001b[39m][\u001b[38;5;241m0\u001b[39m][\u001b[38;5;124m\"\u001b[39m\u001b[38;5;124mname\u001b[39m\u001b[38;5;124m\"\u001b[39m][\u001b[38;5;241m2\u001b[39m]\u001b[38;5;241m.\u001b[39mvalue(\u001b[38;5;124m\"\u001b[39m\u001b[38;5;124msurya\u001b[39m\u001b[38;5;124m\"\u001b[39m)\n",
      "\u001b[1;31mAttributeError\u001b[0m: 'dict' object has no attribute 'value'"
     ]
    }
   ],
   "source": [
    "list[3][2][0][\"name\"][2].value(\"surya\")"
   ]
  },
  {
   "cell_type": "markdown",
   "id": "7996da57",
   "metadata": {},
   "source": [
    "# Sets"
   ]
  },
  {
   "cell_type": "code",
   "execution_count": 69,
   "id": "1b99319e",
   "metadata": {},
   "outputs": [],
   "source": [
    "s={1,2,3}"
   ]
  },
  {
   "cell_type": "code",
   "execution_count": 70,
   "id": "c19a8a9e",
   "metadata": {},
   "outputs": [],
   "source": [
    "s.add(\"surya\")"
   ]
  },
  {
   "cell_type": "code",
   "execution_count": 71,
   "id": "21c8674f",
   "metadata": {},
   "outputs": [
    {
     "data": {
      "text/plain": [
       "{1, 2, 3, 'surya'}"
      ]
     },
     "execution_count": 71,
     "metadata": {},
     "output_type": "execute_result"
    }
   ],
   "source": [
    "s"
   ]
  },
  {
   "cell_type": "code",
   "execution_count": 72,
   "id": "754767e2",
   "metadata": {},
   "outputs": [],
   "source": [
    "r={1,2}"
   ]
  },
  {
   "cell_type": "code",
   "execution_count": 73,
   "id": "30d5edb7",
   "metadata": {},
   "outputs": [
    {
     "ename": "TypeError",
     "evalue": "set.add() takes exactly one argument (2 given)",
     "output_type": "error",
     "traceback": [
      "\u001b[1;31m---------------------------------------------------------------------------\u001b[0m",
      "\u001b[1;31mTypeError\u001b[0m                                 Traceback (most recent call last)",
      "Cell \u001b[1;32mIn[73], line 1\u001b[0m\n\u001b[1;32m----> 1\u001b[0m r\u001b[38;5;241m.\u001b[39madd(\u001b[38;5;241m2\u001b[39m,\u001b[38;5;241m3\u001b[39m)\n",
      "\u001b[1;31mTypeError\u001b[0m: set.add() takes exactly one argument (2 given)"
     ]
    }
   ],
   "source": [
    "r.add(2,3)"
   ]
  },
  {
   "cell_type": "code",
   "execution_count": 74,
   "id": "7b3e2d20",
   "metadata": {},
   "outputs": [],
   "source": [
    "r.add(2)"
   ]
  },
  {
   "cell_type": "code",
   "execution_count": 75,
   "id": "3fcfd7d7",
   "metadata": {},
   "outputs": [
    {
     "data": {
      "text/plain": [
       "{1, 2}"
      ]
     },
     "execution_count": 75,
     "metadata": {},
     "output_type": "execute_result"
    }
   ],
   "source": [
    "r"
   ]
  },
  {
   "cell_type": "code",
   "execution_count": 76,
   "id": "117e8e94",
   "metadata": {},
   "outputs": [],
   "source": [
    "r.update([2,3,4])"
   ]
  },
  {
   "cell_type": "code",
   "execution_count": 77,
   "id": "90d72bb1",
   "metadata": {},
   "outputs": [
    {
     "data": {
      "text/plain": [
       "{1, 2, 3, 4}"
      ]
     },
     "execution_count": 77,
     "metadata": {},
     "output_type": "execute_result"
    }
   ],
   "source": [
    "r"
   ]
  },
  {
   "cell_type": "code",
   "execution_count": 78,
   "id": "19846904",
   "metadata": {},
   "outputs": [],
   "source": [
    "r.remove(1)"
   ]
  },
  {
   "cell_type": "code",
   "execution_count": 79,
   "id": "95bc2798",
   "metadata": {},
   "outputs": [
    {
     "data": {
      "text/plain": [
       "{2, 3, 4}"
      ]
     },
     "execution_count": 79,
     "metadata": {},
     "output_type": "execute_result"
    }
   ],
   "source": [
    "r"
   ]
  },
  {
   "cell_type": "code",
   "execution_count": 80,
   "id": "8dc69acd",
   "metadata": {},
   "outputs": [
    {
     "ename": "TypeError",
     "evalue": "unhashable type: 'list'",
     "output_type": "error",
     "traceback": [
      "\u001b[1;31m---------------------------------------------------------------------------\u001b[0m",
      "\u001b[1;31mTypeError\u001b[0m                                 Traceback (most recent call last)",
      "Cell \u001b[1;32mIn[80], line 1\u001b[0m\n\u001b[1;32m----> 1\u001b[0m r\u001b[38;5;241m.\u001b[39mdiscard([\u001b[38;5;241m1\u001b[39m,\u001b[38;5;241m2\u001b[39m])\n",
      "\u001b[1;31mTypeError\u001b[0m: unhashable type: 'list'"
     ]
    }
   ],
   "source": [
    "r.discard([1,2])"
   ]
  },
  {
   "cell_type": "code",
   "execution_count": 81,
   "id": "ac1cb5ee",
   "metadata": {},
   "outputs": [
    {
     "ename": "TypeError",
     "evalue": "unhashable type: 'list'",
     "output_type": "error",
     "traceback": [
      "\u001b[1;31m---------------------------------------------------------------------------\u001b[0m",
      "\u001b[1;31mTypeError\u001b[0m                                 Traceback (most recent call last)",
      "Cell \u001b[1;32mIn[81], line 1\u001b[0m\n\u001b[1;32m----> 1\u001b[0m r\u001b[38;5;241m.\u001b[39mremove([\u001b[38;5;241m1\u001b[39m,\u001b[38;5;241m2\u001b[39m])\n",
      "\u001b[1;31mTypeError\u001b[0m: unhashable type: 'list'"
     ]
    }
   ],
   "source": [
    "r.remove([1,2])"
   ]
  },
  {
   "cell_type": "code",
   "execution_count": 82,
   "id": "272a517c",
   "metadata": {},
   "outputs": [],
   "source": [
    "r.discard(1)"
   ]
  },
  {
   "cell_type": "code",
   "execution_count": 83,
   "id": "b0311f50",
   "metadata": {},
   "outputs": [
    {
     "data": {
      "text/plain": [
       "{2, 3, 4}"
      ]
     },
     "execution_count": 83,
     "metadata": {},
     "output_type": "execute_result"
    }
   ],
   "source": [
    "r"
   ]
  },
  {
   "cell_type": "code",
   "execution_count": 84,
   "id": "34ec37d6",
   "metadata": {},
   "outputs": [
    {
     "ename": "KeyError",
     "evalue": "1",
     "output_type": "error",
     "traceback": [
      "\u001b[1;31m---------------------------------------------------------------------------\u001b[0m",
      "\u001b[1;31mKeyError\u001b[0m                                  Traceback (most recent call last)",
      "Cell \u001b[1;32mIn[84], line 1\u001b[0m\n\u001b[1;32m----> 1\u001b[0m r\u001b[38;5;241m.\u001b[39mremove(\u001b[38;5;241m1\u001b[39m)\n",
      "\u001b[1;31mKeyError\u001b[0m: 1"
     ]
    }
   ],
   "source": [
    "r.remove(1)"
   ]
  },
  {
   "cell_type": "code",
   "execution_count": 85,
   "id": "c31e7e2a",
   "metadata": {},
   "outputs": [
    {
     "data": {
      "text/plain": [
       "{2, 3, 4}"
      ]
     },
     "execution_count": 85,
     "metadata": {},
     "output_type": "execute_result"
    }
   ],
   "source": [
    "r"
   ]
  },
  {
   "cell_type": "code",
   "execution_count": 86,
   "id": "10e209b0",
   "metadata": {},
   "outputs": [
    {
     "data": {
      "text/plain": [
       "['__and__',\n",
       " '__class__',\n",
       " '__class_getitem__',\n",
       " '__contains__',\n",
       " '__delattr__',\n",
       " '__dir__',\n",
       " '__doc__',\n",
       " '__eq__',\n",
       " '__format__',\n",
       " '__ge__',\n",
       " '__getattribute__',\n",
       " '__getstate__',\n",
       " '__gt__',\n",
       " '__hash__',\n",
       " '__iand__',\n",
       " '__init__',\n",
       " '__init_subclass__',\n",
       " '__ior__',\n",
       " '__isub__',\n",
       " '__iter__',\n",
       " '__ixor__',\n",
       " '__le__',\n",
       " '__len__',\n",
       " '__lt__',\n",
       " '__ne__',\n",
       " '__new__',\n",
       " '__or__',\n",
       " '__rand__',\n",
       " '__reduce__',\n",
       " '__reduce_ex__',\n",
       " '__repr__',\n",
       " '__ror__',\n",
       " '__rsub__',\n",
       " '__rxor__',\n",
       " '__setattr__',\n",
       " '__sizeof__',\n",
       " '__str__',\n",
       " '__sub__',\n",
       " '__subclasshook__',\n",
       " '__xor__',\n",
       " 'add',\n",
       " 'clear',\n",
       " 'copy',\n",
       " 'difference',\n",
       " 'difference_update',\n",
       " 'discard',\n",
       " 'intersection',\n",
       " 'intersection_update',\n",
       " 'isdisjoint',\n",
       " 'issubset',\n",
       " 'issuperset',\n",
       " 'pop',\n",
       " 'remove',\n",
       " 'symmetric_difference',\n",
       " 'symmetric_difference_update',\n",
       " 'union',\n",
       " 'update']"
      ]
     },
     "execution_count": 86,
     "metadata": {},
     "output_type": "execute_result"
    }
   ],
   "source": [
    "dir(s)"
   ]
  },
  {
   "cell_type": "code",
   "execution_count": 87,
   "id": "6652765e",
   "metadata": {},
   "outputs": [
    {
     "ename": "TypeError",
     "evalue": "'int' object is not iterable",
     "output_type": "error",
     "traceback": [
      "\u001b[1;31m---------------------------------------------------------------------------\u001b[0m",
      "\u001b[1;31mTypeError\u001b[0m                                 Traceback (most recent call last)",
      "Cell \u001b[1;32mIn[87], line 1\u001b[0m\n\u001b[1;32m----> 1\u001b[0m s\u001b[38;5;241m.\u001b[39mupdate(\u001b[38;5;241m1\u001b[39m)\n",
      "\u001b[1;31mTypeError\u001b[0m: 'int' object is not iterable"
     ]
    }
   ],
   "source": [
    "s.update(1)"
   ]
  },
  {
   "cell_type": "code",
   "execution_count": 88,
   "id": "8fc78eab",
   "metadata": {},
   "outputs": [],
   "source": [
    "s.update([1])"
   ]
  },
  {
   "cell_type": "code",
   "execution_count": 89,
   "id": "6c733aae",
   "metadata": {},
   "outputs": [
    {
     "data": {
      "text/plain": [
       "{1, 2, 3, 'surya'}"
      ]
     },
     "execution_count": 89,
     "metadata": {},
     "output_type": "execute_result"
    }
   ],
   "source": [
    "s"
   ]
  },
  {
   "cell_type": "markdown",
   "id": "c0811d3e",
   "metadata": {},
   "source": [
    "# exception handling"
   ]
  },
  {
   "cell_type": "code",
   "execution_count": 90,
   "id": "0469a300",
   "metadata": {},
   "outputs": [
    {
     "ename": "ZeroDivisionError",
     "evalue": "division by zero",
     "output_type": "error",
     "traceback": [
      "\u001b[1;31m---------------------------------------------------------------------------\u001b[0m",
      "\u001b[1;31mZeroDivisionError\u001b[0m                         Traceback (most recent call last)",
      "Cell \u001b[1;32mIn[90], line 1\u001b[0m\n\u001b[1;32m----> 1\u001b[0m \u001b[38;5;28mprint\u001b[39m(\u001b[38;5;241m10\u001b[39m\u001b[38;5;241m/\u001b[39m\u001b[38;5;241m0\u001b[39m)\n\u001b[0;32m      2\u001b[0m \u001b[38;5;28mprint\u001b[39m(\u001b[38;5;124m\"\u001b[39m\u001b[38;5;124mnormal flow of program\u001b[39m\u001b[38;5;124m\"\u001b[39m)\n",
      "\u001b[1;31mZeroDivisionError\u001b[0m: division by zero"
     ]
    }
   ],
   "source": [
    "print(10/0)\n",
    "print(\"normal flow of program\")"
   ]
  },
  {
   "cell_type": "code",
   "execution_count": 91,
   "id": "7f4300e1",
   "metadata": {},
   "outputs": [
    {
     "name": "stdout",
     "output_type": "stream",
     "text": [
      "u fool how can u divide by 0\n"
     ]
    }
   ],
   "source": [
    "try:\n",
    "    print(10/0)\n",
    "    print(\"normal flow of program\")\n",
    "except ZeroDivisionError:\n",
    "    print(\"u fool how can u divide by 0\")"
   ]
  },
  {
   "cell_type": "code",
   "execution_count": 92,
   "id": "e4cbba34",
   "metadata": {},
   "outputs": [
    {
     "name": "stdout",
     "output_type": "stream",
     "text": [
      "u fool how can u divide by 0\n",
      "normal flow of program\n"
     ]
    }
   ],
   "source": [
    "try:\n",
    "    print(10/0)\n",
    "    \n",
    "except ZeroDivisionError:\n",
    "    print(\"u fool how can u divide by 0\")\n",
    "print(\"normal flow of program\")"
   ]
  },
  {
   "cell_type": "code",
   "execution_count": 93,
   "id": "de699029",
   "metadata": {},
   "outputs": [
    {
     "name": "stdout",
     "output_type": "stream",
     "text": [
      "can only concatenate str (not \"int\") to str\n"
     ]
    }
   ],
   "source": [
    "try:\n",
    "    \"2\"+2\n",
    "    \n",
    "except Exception as e:\n",
    "    print(e)"
   ]
  },
  {
   "cell_type": "code",
   "execution_count": 94,
   "id": "4df0f640",
   "metadata": {},
   "outputs": [
    {
     "name": "stdout",
     "output_type": "stream",
     "text": [
      "divisisble by zero error\n",
      "finally is executed irrespective of exception has occurd or not\n"
     ]
    }
   ],
   "source": [
    "try:\n",
    "    print(10/0)\n",
    "except ZeroDivisionError:\n",
    "    print(\"divisisble by zero error\")\n",
    "finally:\n",
    "    print(\"finally is executed irrespective of exception has occurd or not\")"
   ]
  },
  {
   "cell_type": "code",
   "execution_count": null,
   "id": "67c55400",
   "metadata": {},
   "outputs": [],
   "source": []
  }
 ],
 "metadata": {
  "kernelspec": {
   "display_name": "Python 3 (ipykernel)",
   "language": "python",
   "name": "python3"
  },
  "language_info": {
   "codemirror_mode": {
    "name": "ipython",
    "version": 3
   },
   "file_extension": ".py",
   "mimetype": "text/x-python",
   "name": "python",
   "nbconvert_exporter": "python",
   "pygments_lexer": "ipython3",
   "version": "3.11.4"
  }
 },
 "nbformat": 4,
 "nbformat_minor": 5
}
